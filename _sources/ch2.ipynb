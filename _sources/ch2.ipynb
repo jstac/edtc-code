{
 "cells": [
  {
   "cell_type": "markdown",
   "id": "d7aa3ec4",
   "metadata": {},
   "source": [
    "# Chapter 2 Code"
   ]
  },
  {
   "cell_type": "markdown",
   "id": "43cf0bc7",
   "metadata": {},
   "source": [
    "We'll use Python's NumPy library in what follows, as well as Matplotlib for plotting."
   ]
  },
  {
   "cell_type": "code",
   "execution_count": 1,
   "id": "79f29bd4",
   "metadata": {},
   "outputs": [],
   "source": [
    "import numpy as np\n",
    "import matplotlib.pyplot as plt"
   ]
  },
  {
   "cell_type": "markdown",
   "id": "3342f579",
   "metadata": {},
   "source": [
    "## Bisection"
   ]
  },
  {
   "cell_type": "markdown",
   "id": "ff8b2c21",
   "metadata": {},
   "source": [
    "Here's an implementation of the bisection algorithm.  We will test it on this function:"
   ]
  },
  {
   "cell_type": "code",
   "execution_count": 2,
   "id": "328bd0f3",
   "metadata": {},
   "outputs": [],
   "source": [
    "f = lambda x: np.sin(4 * (x - 1/4)) + x + x**20 - 1"
   ]
  },
  {
   "cell_type": "markdown",
   "id": "8283b964",
   "metadata": {},
   "source": [
    "The implementation:"
   ]
  },
  {
   "cell_type": "code",
   "execution_count": 3,
   "id": "1c98caa0",
   "metadata": {},
   "outputs": [
    {
     "name": "stdout",
     "output_type": "stream",
     "text": [
      "0.408293504267931\n"
     ]
    }
   ],
   "source": [
    "M = 1000\n",
    "ϵ = 1e-8\n",
    "α, β = 0, 1\n",
    "\n",
    "    \n",
    "i = 1\n",
    "a, b = α, β\n",
    "while i <= M:\n",
    "    c = (a + b) / 2\n",
    "    if abs(f(c)) < ϵ:\n",
    "        print(c)\n",
    "        break\n",
    "    i += 1\n",
    "    if f(a) * f(c) < 0:\n",
    "        b = c\n",
    "    else:\n",
    "        a = c\n",
    "        \n",
    "if i > M:\n",
    "    print(\"Failed to converge.\")"
   ]
  },
  {
   "cell_type": "markdown",
   "id": "d12f37b9",
   "metadata": {},
   "source": [
    "## User Defined Functions"
   ]
  },
  {
   "cell_type": "markdown",
   "id": "07c83a47",
   "metadata": {},
   "source": [
    "Here's the basic implementation of the function $\\tau$."
   ]
  },
  {
   "cell_type": "code",
   "execution_count": 4,
   "id": "0cb7b064",
   "metadata": {},
   "outputs": [],
   "source": [
    "def tau(z, S, phi):\n",
    "    \"\"\"\n",
    "    Evaluates the function tau(z) given data S, phi, where\n",
    "    S and phi are assumed to be arrays.\n",
    "    \"\"\"\n",
    "    a = 0\n",
    "    for i, x in enumerate(S):\n",
    "        b = a + phi[i]\n",
    "        if a < z <= b:\n",
    "            return x\n",
    "        a = b"
   ]
  },
  {
   "cell_type": "markdown",
   "id": "d3f8e645",
   "metadata": {},
   "source": [
    "Here's a more efficient implementation."
   ]
  },
  {
   "cell_type": "code",
   "execution_count": 5,
   "id": "a3de9966",
   "metadata": {},
   "outputs": [],
   "source": [
    "def tau(z, S, phi):\n",
    "    i = np.searchsorted(np.cumsum(phi), z)\n",
    "    return S[i]"
   ]
  },
  {
   "cell_type": "markdown",
   "id": "40d50c6d",
   "metadata": {},
   "source": [
    "And here's a closure that generates the function $\\tau$."
   ]
  },
  {
   "cell_type": "code",
   "execution_count": 6,
   "id": "632e24d0",
   "metadata": {},
   "outputs": [],
   "source": [
    "def tau_factory(S, phi):\n",
    "    Φ = np.cumsum(phi)\n",
    "    \n",
    "    def tau(z):\n",
    "        i = np.searchsorted(Φ, z)\n",
    "        return S[i]\n",
    "    \n",
    "    return tau"
   ]
  },
  {
   "cell_type": "markdown",
   "id": "e031cd43",
   "metadata": {},
   "source": [
    "We generate a function $\\tau$ that acts on $z$ alone by calling the function factory:"
   ]
  },
  {
   "cell_type": "code",
   "execution_count": 7,
   "id": "82918c54",
   "metadata": {},
   "outputs": [],
   "source": [
    "phi = 0.2, 0.5, 0.3\n",
    "S = 0, 1, 2\n",
    "tau = tau_factory(S, phi)"
   ]
  },
  {
   "cell_type": "code",
   "execution_count": 8,
   "id": "03540fd8",
   "metadata": {},
   "outputs": [
    {
     "data": {
      "text/plain": [
       "0"
      ]
     },
     "execution_count": 8,
     "metadata": {},
     "output_type": "execute_result"
    }
   ],
   "source": [
    "tau(0.1)  # Should be 0"
   ]
  },
  {
   "cell_type": "markdown",
   "id": "afbd06eb",
   "metadata": {},
   "source": [
    "All of these functions work as expected.  To illustrate, here $\\tau$ is used to generate draws from a given distribution $\\phi$."
   ]
  },
  {
   "cell_type": "code",
   "execution_count": 9,
   "id": "e933c432",
   "metadata": {},
   "outputs": [],
   "source": [
    "size = 100_000\n",
    "\n",
    "draws = np.empty(size)\n",
    "for j in range(size):\n",
    "    W = np.random.uniform()\n",
    "    draws[j] = tau(W)\n",
    "    \n",
    "# Compute fraction of draws with each possible value\n",
    "frequency = [np.mean(draws==j) for j in S]\n",
    "    "
   ]
  },
  {
   "cell_type": "markdown",
   "id": "0f5ac849",
   "metadata": {},
   "source": [
    "Let's check that the empirical frequency approximately coincides with the probabilities in $\\phi$."
   ]
  },
  {
   "cell_type": "code",
   "execution_count": 10,
   "id": "6c644bed",
   "metadata": {},
   "outputs": [
    {
     "data": {
      "image/png": "[encoded data removed]",
      "text/plain": [
       "<Figure size 432x288 with 1 Axes>"
      ]
     },
     "metadata": {
      "filenames": {
       "image/png": "/home/john/gh_synced/books/sed2/edtc-code/code_book/_build/jupyter_execute/ch2_21_0.png"
      },
      "needs_background": "light"
     },
     "output_type": "display_data"
    }
   ],
   "source": [
    "fig, ax = plt.subplots()\n",
    "\n",
    "ax.bar(S, frequency, \n",
    "       edgecolor='k',\n",
    "       facecolor='b',\n",
    "       alpha=0.25, \n",
    "       label=\"histogram\")\n",
    "\n",
    "ax.stem(S, phi, label='$\\\\phi$')\n",
    "\n",
    "ax.legend()\n",
    "\n",
    "plt.show()"
   ]
  },
  {
   "cell_type": "markdown",
   "id": "ab473117",
   "metadata": {},
   "source": [
    "## Object Oriented Programming"
   ]
  },
  {
   "cell_type": "markdown",
   "id": "ce6c34a4",
   "metadata": {},
   "source": [
    "Here's a class that implements the function $\\tau$ as a method, as well as a method to generate draws from $\\phi$."
   ]
  },
  {
   "cell_type": "code",
   "execution_count": 11,
   "id": "77a4a1d0",
   "metadata": {},
   "outputs": [],
   "source": [
    "class Tau:\n",
    "    \n",
    "    def __init__(self, S, phi):\n",
    "        self.S = S\n",
    "        self.Φ = np.cumsum(phi)\n",
    "    \n",
    "    def tau(self, z):\n",
    "        i = np.searchsorted(self.Φ, z)\n",
    "        return self.S[i]\n",
    "    \n",
    "    def draw(self):\n",
    "        W = np.random.uniform()\n",
    "        return self.tau(W)"
   ]
  },
  {
   "cell_type": "code",
   "execution_count": 12,
   "id": "39ad665b",
   "metadata": {},
   "outputs": [],
   "source": [
    "tau = Tau(S, phi)"
   ]
  },
  {
   "cell_type": "code",
   "execution_count": 13,
   "id": "e5049f6c",
   "metadata": {},
   "outputs": [
    {
     "name": "stdout",
     "output_type": "stream",
     "text": [
      "0\n",
      "1\n",
      "1\n",
      "1\n",
      "1\n"
     ]
    }
   ],
   "source": [
    "for i in range(5):\n",
    "    print(tau.draw())"
   ]
  }
 ],
 "metadata": {
  "jupytext": {
   "cell_metadata_filter": "-all",
   "formats": "md:myst",
   "text_representation": {
    "extension": ".md",
    "format_name": "myst",
    "format_version": 0.13,
    "jupytext_version": "1.10.3"
   }
  },
  "kernelspec": {
   "display_name": "Python 3",
   "language": "python",
   "name": "python3"
  },
  "language_info": {
   "codemirror_mode": {
    "name": "ipython",
    "version": 3
   },
   "file_extension": ".py",
   "mimetype": "text/x-python",
   "name": "python",
   "nbconvert_exporter": "python",
   "pygments_lexer": "ipython3",
   "version": "3.8.5"
  },
  "source_map": [
   14,
   18,
   22,
   25,
   29,
   33,
   35,
   39,
   60,
   64,
   68,
   80,
   84,
   88,
   92,
   101,
   105,
   111,
   113,
   117,
   129,
   133,
   147,
   151,
   155,
   171,
   175
  ]
 },
 "nbformat": 4,
 "nbformat_minor": 5
}