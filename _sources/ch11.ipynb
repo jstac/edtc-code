{
 "cells": [
  {
   "cell_type": "markdown",
   "id": "fd1c59d6",
   "metadata": {},
   "source": [
    "# Chapter 11 Code\n",
    "\n",
    "We begin with some imports"
   ]
  },
  {
   "cell_type": "code",
   "execution_count": 1,
   "id": "47904a66",
   "metadata": {},
   "outputs": [],
   "source": [
    "import numpy as np\n",
    "import matplotlib.pyplot as plt\n",
    "from numba import njit\n"
   ]
  },
  {
   "cell_type": "markdown",
   "id": "69195120",
   "metadata": {},
   "source": [
    "Now we recreate figure 11.3.  Our first step is to set the parameters."
   ]
  },
  {
   "cell_type": "code",
   "execution_count": 2,
   "id": "aeb8155d",
   "metadata": {},
   "outputs": [],
   "source": [
    "alpha = 0.6\n",
    "Q = 2\n",
    "R = 1\n",
    "sigma = 0.1 # variance\n",
    "mu = - sigma**2 / 2\n"
   ]
  },
  {
   "cell_type": "markdown",
   "id": "f7b88438",
   "metadata": {},
   "source": [
    "Next we introduce useful functions."
   ]
  },
  {
   "cell_type": "code",
   "execution_count": 3,
   "id": "09001722",
   "metadata": {},
   "outputs": [],
   "source": [
    "@njit\n",
    "def wage(k, z):\n",
    "    return (1 - alpha) * (k**alpha) * z\n",
    "\n",
    "@njit\n",
    "def theta(w, lda):\n",
    "    if (w < 1 - lda):\n",
    "        return lda / (1 - w)\n",
    "    else:\n",
    "        return 1\n",
    "\n",
    "@njit\n",
    "def g(y): \n",
    "    return (y/alpha)**(1/(alpha-1)) \n",
    "\n",
    "@njit\n",
    "def update(k, z, lda):\n",
    "    \" Update the state.\"\n",
    "    return g(R / (Q * theta(wage(k, z), lda)))\n",
    "\n",
    "@njit\n",
    "def a(lda): \n",
    "    return g(R / (lda * Q))\n",
    "\n",
    "@njit\n",
    "def generate_ts(lda, init=None, seed=1234, ts_length=10_000):\n",
    "    \" Generate a time series from the model.\"\n",
    "    np.random.seed(seed)\n",
    "    K = np.empty(ts_length)  \n",
    "    if init is None:\n",
    "        init = a(lda)\n",
    "    K[0] = init\n",
    "    for t in range(ts_length-1):\n",
    "        z = np.exp(mu + sigma * np.random.randn())\n",
    "        K[t+1] = update(K[t], z, lda)  \n",
    "    return K\n",
    "\n"
   ]
  },
  {
   "cell_type": "markdown",
   "id": "4842e6e7",
   "metadata": {},
   "source": [
    "Now we recreate the plot."
   ]
  },
  {
   "cell_type": "code",
   "execution_count": 4,
   "id": "eda5eab6",
   "metadata": {},
   "outputs": [
    {
     "data": {
      "image/png": "[encoded data removed]",
      "text/plain": [
       "<Figure size 432x288 with 1 Axes>"
      ]
     },
     "metadata": {
      "filenames": {
       "image/png": "/home/john/gh_synced/books/sed2/edtc-code/code_book/_build/jupyter_execute/ch11_7_0.png"
      },
      "needs_background": "light"
     },
     "output_type": "display_data"
    }
   ],
   "source": [
    "b = g(R / Q)\n",
    "\n",
    "lambdas = 0.48, 0.5, 0.52\n",
    "line_type = '-', '--', '-.'\n",
    "mc_size = 5000\n",
    "grid_size = 150\n",
    "\n",
    "fig, ax = plt.subplots()\n",
    "\n",
    "for lda, lt in zip(lambdas, line_type): \n",
    "    xvec = np.linspace(a(lda), b, grid_size)\n",
    "    obs = generate_ts(lda, ts_length=mc_size)\n",
    "    def ecdf(y):\n",
    "        return sum(obs <= y) / mc_size\n",
    "    yvec = [ecdf(x) for x in xvec]\n",
    "    ax.plot(xvec, yvec, lt, label=f'$\\\\lambda={lda}$')\n",
    "\n",
    "ax.set_xlabel('capital')\n",
    "ax.legend()\n",
    "\n",
    "plt.show()\n",
    "\n"
   ]
  },
  {
   "cell_type": "markdown",
   "id": "dc2329c7",
   "metadata": {},
   "source": [
    "Now we address exercise 11.26.\n",
    "\n",
    "We need to determine the fraction of time the sample spends at the point $b$\n",
    "in the state space over a long horizon, for different values of $\\lambda$."
   ]
  },
  {
   "cell_type": "code",
   "execution_count": 5,
   "id": "4c404269",
   "metadata": {},
   "outputs": [
    {
     "data": {
      "image/png": "[encoded data removed]",
      "text/plain": [
       "<Figure size 432x288 with 1 Axes>"
      ]
     },
     "metadata": {
      "filenames": {
       "image/png": "/home/john/gh_synced/books/sed2/edtc-code/code_book/_build/jupyter_execute/ch11_9_0.png"
      },
      "needs_background": "light"
     },
     "output_type": "display_data"
    }
   ],
   "source": [
    "grid_size = 80\n",
    "lambdas = np.linspace(0.45, 0.65, grid_size)\n",
    "mc_size = 5000\n",
    "\n",
    "prob_at_b = np.empty_like(lambdas)\n",
    "\n",
    "for i, lda in enumerate(lambdas):\n",
    "    obs = generate_ts(lda, ts_length=mc_size)\n",
    "    prob_at_b[i] = np.mean(obs == b)\n",
    "\n",
    "fig, ax = plt.subplots()\n",
    "ax.plot(lambdas, prob_at_b, label='$\\\\psi^*(\\{b\\})$')\n",
    "ax.set_xlabel('$\\\\lambda$')\n",
    "ax.legend()\n",
    "\n",
    "plt.show()\n",
    "\n"
   ]
  }
 ],
 "metadata": {
  "jupytext": {
   "cell_metadata_filter": "-all",
   "formats": "md:myst",
   "text_representation": {
    "extension": ".md",
    "format_name": "myst",
    "format_version": 0.13,
    "jupytext_version": "1.10.3"
   }
  },
  "kernelspec": {
   "display_name": "Python 3",
   "language": "python",
   "name": "python3"
  },
  "language_info": {
   "codemirror_mode": {
    "name": "ipython",
    "version": 3
   },
   "file_extension": ".py",
   "mimetype": "text/x-python",
   "name": "python",
   "nbconvert_exporter": "python",
   "pygments_lexer": "ipython3",
   "version": "3.8.5"
  },
  "source_map": [
   14,
   20,
   25,
   30,
   38,
   43,
   82,
   86,
   111,
   120
  ]
 },
 "nbformat": 4,
 "nbformat_minor": 5
}