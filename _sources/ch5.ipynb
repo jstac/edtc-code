{
 "cells": [
  {
   "cell_type": "markdown",
   "id": "30c2c7da",
   "metadata": {},
   "source": [
    "# Chapter 5 Code\n",
    "\n",
    "\n",
    "We will use the following imports."
   ]
  },
  {
   "cell_type": "code",
   "execution_count": 1,
   "id": "27c49cad",
   "metadata": {},
   "outputs": [],
   "source": [
    "import numpy as np\n",
    "import matplotlib.pyplot as plt\n",
    "from numba import jit"
   ]
  },
  {
   "cell_type": "markdown",
   "id": "7e78e95b",
   "metadata": {},
   "source": [
    "## The Optimal Savings Problem\n",
    "\n",
    "First we set parameters and construct the state and action spaces."
   ]
  },
  {
   "cell_type": "code",
   "execution_count": 2,
   "id": "2d9dd3c6",
   "metadata": {},
   "outputs": [],
   "source": [
    "beta, rho = 0.5, 0.9\n",
    "z_bar, s_bar = 10, 5\n",
    "\n",
    "S = np.arange(z_bar + s_bar + 1)    # State space = 0,...,z_bar + s_bar\n",
    "Z = np.arange(z_bar + 1)            # Shock space = 0,...,z_bar "
   ]
  },
  {
   "cell_type": "markdown",
   "id": "df533cdb",
   "metadata": {},
   "source": [
    "Next we write down the primitives of the problem, such as the utility function."
   ]
  },
  {
   "cell_type": "code",
   "execution_count": 3,
   "id": "d8b56e6f",
   "metadata": {},
   "outputs": [],
   "source": [
    "def U(c):      \n",
    "    \"Utility function.\"\n",
    "    return c**beta\n",
    "\n",
    "def phi(z):    \n",
    "    \"Probability mass function, uniform distribution.\"\n",
    "    return 1.0 / len(Z) if 0 <= z <= z_bar else 0\n",
    "\n",
    "def Gamma(x):  \n",
    "    \"The correspondence of feasible actions.\"\n",
    "    return range(min(x, s_bar) + 1)"
   ]
  },
  {
   "cell_type": "markdown",
   "id": "bb6392b9",
   "metadata": {},
   "source": [
    "### Value Function Iteration\n",
    "\n",
    "To implement VFI, we first construct the Bellman operator $T$."
   ]
  },
  {
   "cell_type": "code",
   "execution_count": 4,
   "id": "310d7ae6",
   "metadata": {},
   "outputs": [],
   "source": [
    "def T(v):      \n",
    "    Tv = np.empty_like(v)\n",
    "    for x in S:\n",
    "        # Compute the value of the objective function for each \n",
    "        # a in Gamma(x) and record highest value.\n",
    "        running_max = -np.inf\n",
    "        for a in Gamma(x):\n",
    "            y = U(x - a) + rho * sum(v[a + z]*phi(z) for z in Z)\n",
    "            if y > running_max:\n",
    "                running_max = y\n",
    "        # Store the maximum reward for this x in Tv\n",
    "        Tv[x] = running_max\n",
    "    return Tv "
   ]
  },
  {
   "cell_type": "markdown",
   "id": "5667ebbf",
   "metadata": {},
   "source": [
    "The next function computes a $w$-greedy policy."
   ]
  },
  {
   "cell_type": "code",
   "execution_count": 5,
   "id": "8a982711",
   "metadata": {},
   "outputs": [],
   "source": [
    "def get_greedy(w):      \n",
    "    sigma = np.empty_like(w)\n",
    "    for x in S:\n",
    "        running_max = -np.inf\n",
    "        for a in Gamma(x):\n",
    "            y = U(x - a) + rho * sum(w[a + z]*phi(z) for z in Z)\n",
    "            # Record the action that gives highest value\n",
    "            if y > running_max:\n",
    "                running_max = y\n",
    "                sigma[x] = a\n",
    "    return sigma"
   ]
  },
  {
   "cell_type": "markdown",
   "id": "190ff1e4",
   "metadata": {},
   "source": [
    "The following function implements value function iteration, starting with the\n",
    "utility function as the initial condition.\n",
    "\n",
    "Iteration continues until the sup deviation between iterates is less than\n",
    "`tol`."
   ]
  },
  {
   "cell_type": "code",
   "execution_count": 6,
   "id": "c13ec96b",
   "metadata": {},
   "outputs": [],
   "source": [
    "def compute_value_function(tol=1e-4,\n",
    "                           max_iter=1000,\n",
    "                           verbose=True,\n",
    "                           print_skip=5):\n",
    "\n",
    "    # Set up loop\n",
    "    v = [U(x) for x in S]     # Initial condition\n",
    "    i = 0\n",
    "    error = tol + 1\n",
    "\n",
    "    while i < max_iter and error > tol:\n",
    "        v_new = T(v)\n",
    "        error = np.max(np.abs(v - v_new))\n",
    "        i += 1\n",
    "        if verbose and i % print_skip == 0:\n",
    "            print(f\"Error at iteration {i} is {error}.\")\n",
    "        v = v_new\n",
    "\n",
    "    if i == max_iter:\n",
    "        print(\"Failed to converge!\")\n",
    "\n",
    "    if verbose and i < max_iter:\n",
    "        print(f\"\\nConverged in {i} iterations.\")\n",
    "\n",
    "    return v_new"
   ]
  },
  {
   "cell_type": "markdown",
   "id": "c47989dd",
   "metadata": {},
   "source": [
    "Let's run the code and plot the result."
   ]
  },
  {
   "cell_type": "code",
   "execution_count": 7,
   "id": "2b077e15",
   "metadata": {},
   "outputs": [
    {
     "name": "stdout",
     "output_type": "stream",
     "text": [
      "Error at iteration 5 is 1.2573668687016468.\n",
      "Error at iteration 10 is 0.741211643809562.\n",
      "Error at iteration 15 is 0.4376689170549888.\n",
      "Error at iteration 20 is 0.2584390462574362.\n",
      "Error at iteration 25 is 0.15260567184870055.\n",
      "Error at iteration 30 is 0.09011212316537609.\n",
      "Error at iteration 35 is 0.05321030760788403.\n",
      "Error at iteration 40 is 0.0314201545393793.\n",
      "Error at iteration 45 is 0.018553287053961753.\n",
      "Error at iteration 50 is 0.010955530472493535.\n",
      "Error at iteration 55 is 0.0064691311887052905.\n",
      "Error at iteration 60 is 0.003819957275620567.\n",
      "Error at iteration 65 is 0.002255646571679648.\n",
      "Error at iteration 70 is 0.0013319367441120278.\n",
      "Error at iteration 75 is 0.0007864953280325437.\n",
      "Error at iteration 80 is 0.00046441762625448746.\n",
      "Error at iteration 85 is 0.0002742339641272906.\n",
      "Error at iteration 90 is 0.00016193241347650655.\n",
      "Error at iteration 95 is 9.561947083724931e-05.\n",
      "\n",
      "Converged in 95 iterations.\n"
     ]
    },
    {
     "data": {
      "image/png": "[encoded data removed]",
      "text/plain": [
       "<Figure size 432x288 with 1 Axes>"
      ]
     },
     "metadata": {
      "filenames": {
       "image/png": "/home/john/gh_synced/books/sed2/edtc-code/code_book/_build/jupyter_execute/ch5_13_1.png"
      },
      "needs_background": "light"
     },
     "output_type": "display_data"
    }
   ],
   "source": [
    "v_star = compute_value_function()\n",
    "\n",
    "fig, ax = plt.subplots()\n",
    "ax.plot(S, v_star, 'k-', label='approximate value function')\n",
    "ax.legend()\n",
    "ax.set_xlabel(\"$x$\")\n",
    "ax.set_ylabel(\"value\")\n",
    "\n",
    "#plt.savefig(\"vfiv.pdf\")\n",
    "\n",
    "plt.show()\n"
   ]
  },
  {
   "cell_type": "markdown",
   "id": "88f6913a",
   "metadata": {},
   "source": [
    "Now we can compute the $v^*$-greedy policy, which is approximately optimal."
   ]
  },
  {
   "cell_type": "code",
   "execution_count": 8,
   "id": "c40b62e3",
   "metadata": {},
   "outputs": [
    {
     "data": {
      "image/png": "[encoded data removed]",
      "text/plain": [
       "<Figure size 432x288 with 1 Axes>"
      ]
     },
     "metadata": {
      "filenames": {
       "image/png": "/home/john/gh_synced/books/sed2/edtc-code/code_book/_build/jupyter_execute/ch5_15_0.png"
      },
      "needs_background": "light"
     },
     "output_type": "display_data"
    }
   ],
   "source": [
    "sigma_star = get_greedy(v_star)\n",
    "\n",
    "fig, ax = plt.subplots()\n",
    "ax.plot(S, sigma_star, 'k-', label='optimal policy')\n",
    "ax.legend()\n",
    "\n",
    "plt.show()\n"
   ]
  },
  {
   "cell_type": "markdown",
   "id": "723cd2bc",
   "metadata": {},
   "source": [
    "Even though value function iteration only guarantees an approximately optimal\n",
    "policy, since computation of the value function is only up to a certain degree\n",
    "of precision, it turns out that our policy is exactly optimal.\n",
    "\n",
    "This becomes clear in the next section.\n",
    "\n",
    "Before that, let's check that the Markov chain for wealth is globally stable\n",
    "by calculating the Dobrushin coefficient.\n",
    "\n",
    "Here's a function to compute the Dobrushin coefficient."
   ]
  },
  {
   "cell_type": "code",
   "execution_count": 9,
   "id": "38092a35",
   "metadata": {},
   "outputs": [],
   "source": [
    "def dobrushin(p):\n",
    "    running_min = 1\n",
    "    for x in S:\n",
    "        for xp in S:\n",
    "            a = sum((min(p[x,y], p[xp, y]) for y in S))\n",
    "            if a < running_min:\n",
    "                running_min = a\n",
    "    return running_min"
   ]
  },
  {
   "cell_type": "markdown",
   "id": "222d1e0a",
   "metadata": {},
   "source": [
    "Now we construct the stochastic kernel at the optimal policy and check the\n",
    "Dobrushin coefficient."
   ]
  },
  {
   "cell_type": "code",
   "execution_count": 10,
   "id": "618571a3",
   "metadata": {},
   "outputs": [
    {
     "data": {
      "text/plain": [
       "0.5454545454545455"
      ]
     },
     "execution_count": 10,
     "metadata": {},
     "output_type": "execute_result"
    }
   ],
   "source": [
    "p_sigma = np.empty((len(S), len(S)))\n",
    "\n",
    "for x in S:\n",
    "    for y in S:\n",
    "        p_sigma[x, y] = phi(y - sigma_star[x])\n",
    "\n",
    "dobrushin(p_sigma)"
   ]
  },
  {
   "cell_type": "markdown",
   "id": "08f2a293",
   "metadata": {},
   "source": [
    "The Dobrushin coefficient is positive so global stability holds.\n",
    "\n",
    "We'll borrow some earlier code to compute the stationary distribution."
   ]
  },
  {
   "cell_type": "code",
   "execution_count": 11,
   "id": "d0f580d6",
   "metadata": {},
   "outputs": [],
   "source": [
    "from numpy.linalg import solve\n",
    "\n",
    "def compute_stationary(p):\n",
    "    N = p.shape[0]\n",
    "    I = np.identity(N)\n",
    "    O = np.ones((N, N))\n",
    "    A = I - p + O\n",
    "    return solve(A.T, np.ones((N, 1))).flatten()\n"
   ]
  },
  {
   "cell_type": "markdown",
   "id": "1c40e777",
   "metadata": {},
   "source": [
    "Now let's compute it."
   ]
  },
  {
   "cell_type": "code",
   "execution_count": 12,
   "id": "88277ef5",
   "metadata": {},
   "outputs": [
    {
     "data": {
      "image/png": "[encoded data removed]",
      "text/plain": [
       "<Figure size 432x288 with 1 Axes>"
      ]
     },
     "metadata": {
      "filenames": {
       "image/png": "/home/john/gh_synced/books/sed2/edtc-code/code_book/_build/jupyter_execute/ch5_23_0.png"
      },
      "needs_background": "light"
     },
     "output_type": "display_data"
    }
   ],
   "source": [
    "fig, ax = plt.subplots()\n",
    "psi_star = compute_stationary(p_sigma)\n",
    "\n",
    "ax.bar(S, psi_star, edgecolor='k', alpha=0.5, label=r'$\\psi^*$')\n",
    "ax.set_xlabel('wealth')\n",
    "ax.legend()\n",
    "\n",
    "# plt.savefig(\"opt_wealth_dist.pdf\")\n",
    "\n",
    "plt.show()"
   ]
  },
  {
   "cell_type": "markdown",
   "id": "a4e682c1",
   "metadata": {},
   "source": [
    "### Policy Iteration\n",
    "\n",
    "Now we turn to the Howard policy iteration algorithm.\n",
    "\n",
    "In the finite state setting, this algorithm converges to the exact optimal\n",
    "policy.\n",
    "\n",
    "To implement the algorithm, we need to be able to evaluate the lifetime reward\n",
    "of any given policy.\n",
    "\n",
    "The next function does this using the algebraic method suggested in the\n",
    "textbook."
   ]
  },
  {
   "cell_type": "code",
   "execution_count": 13,
   "id": "79dbb1a1",
   "metadata": {},
   "outputs": [],
   "source": [
    "def compute_policy_value(sigma):\n",
    "    \n",
    "    # Construct r_sigma and p_sigma = M_sigma\n",
    "    n = len(S)\n",
    "    r_sigma = np.empty(n)\n",
    "    p_sigma = np.empty((n, n))\n",
    "    for x in S:\n",
    "        r_sigma[x] = U(x - sigma[x])\n",
    "        for y in S:\n",
    "            p_sigma[x, y] = phi(y - sigma[x])\n",
    "\n",
    "\n",
    "    # Solve sigma = (I - rho p_sigma)^{-1} r_sigma\n",
    "    I = np.identity(n)\n",
    "    sigma = np.linalg.solve(I - rho * p_sigma, r_sigma)\n",
    "    return sigma"
   ]
  },
  {
   "cell_type": "markdown",
   "id": "f4c6db93",
   "metadata": {},
   "source": [
    "Now we can implement policy iteration."
   ]
  },
  {
   "cell_type": "code",
   "execution_count": 14,
   "id": "227476f5",
   "metadata": {},
   "outputs": [],
   "source": [
    "def policy_iteration(max_iter=1e6, verbose=True):\n",
    "\n",
    "    sigma = np.zeros(len(S))  # Starting point\n",
    "    i = 1\n",
    "\n",
    "    while i < max_iter:\n",
    "        v_sigma = compute_policy_value(sigma)\n",
    "        new_sigma = get_greedy(v_sigma)\n",
    "        if np.all(new_sigma == sigma):\n",
    "            break\n",
    "        else:\n",
    "            sigma = new_sigma\n",
    "            i += 1\n",
    "\n",
    "    if i == max_iter:\n",
    "        print(\"Failed to converge!\")\n",
    "\n",
    "    if verbose and i < max_iter:\n",
    "        print(f\"\\nConverged in {i} iterations.\")\n",
    "\n",
    "    return sigma\n"
   ]
  },
  {
   "cell_type": "markdown",
   "id": "d4e86d02",
   "metadata": {},
   "source": [
    "Now let's compute using policy iteration and plot."
   ]
  },
  {
   "cell_type": "code",
   "execution_count": 15,
   "id": "0b5fcfad",
   "metadata": {},
   "outputs": [
    {
     "name": "stdout",
     "output_type": "stream",
     "text": [
      "\n",
      "Converged in 4 iterations.\n"
     ]
    },
    {
     "data": {
      "image/png": "[encoded data removed]",
      "text/plain": [
       "<Figure size 432x288 with 1 Axes>"
      ]
     },
     "metadata": {
      "filenames": {
       "image/png": "/home/john/gh_synced/books/sed2/edtc-code/code_book/_build/jupyter_execute/ch5_29_1.png"
      },
      "needs_background": "light"
     },
     "output_type": "display_data"
    }
   ],
   "source": [
    "sigma_star_pi = policy_iteration()\n",
    "\n",
    "fig, ax = plt.subplots()\n",
    "ax.plot(S, sigma_star_pi, 'k-', label='optimal policy via PI')\n",
    "ax.legend()\n",
    "ax.set_xlabel(\"$x$\")\n",
    "ax.set_ylabel(\"savings\")\n",
    "\n",
    "# plt.savefig(\"wealth_opt_pol.pdf\")\n",
    "\n",
    "plt.show()\n"
   ]
  },
  {
   "cell_type": "markdown",
   "id": "6b4c7c49",
   "metadata": {},
   "source": [
    "Let's check that the two ways of computing the optimal policy are\n",
    "equivalent up."
   ]
  },
  {
   "cell_type": "code",
   "execution_count": 16,
   "id": "40a5b96e",
   "metadata": {},
   "outputs": [
    {
     "data": {
      "text/plain": [
       "True"
      ]
     },
     "execution_count": 16,
     "metadata": {},
     "output_type": "execute_result"
    }
   ],
   "source": [
    "np.all(sigma_star == sigma_star_pi)"
   ]
  },
  {
   "cell_type": "markdown",
   "id": "be4f58ff",
   "metadata": {},
   "source": [
    "Success!  We have found the optimal policy and both methods of computing lead\n",
    "us to it.\n",
    "\n",
    "\n",
    "\n",
    "\n",
    "## Equilibrium Selection\n",
    "\n",
    "\n",
    "Here are the parameter values."
   ]
  },
  {
   "cell_type": "code",
   "execution_count": 17,
   "id": "c523fa8b",
   "metadata": {},
   "outputs": [],
   "source": [
    "N = 12\n",
    "u = 2\n",
    "w = 1"
   ]
  },
  {
   "cell_type": "code",
   "execution_count": 18,
   "id": "bd3f86e9",
   "metadata": {},
   "outputs": [],
   "source": [
    "@jit\n",
    "def reward1(z):\n",
    "    return (z/N) * u\n",
    "\n",
    "@jit\n",
    "def reward2(z):\n",
    "    return ((N - z)/N) * w\n",
    "\n",
    "@jit\n",
    "def B(z):\n",
    "    if reward1(z) > reward2(z):\n",
    "        return N\n",
    "    elif reward1(z) < reward2(z):\n",
    "        return 0\n",
    "    else:\n",
    "        return z\n",
    "\n",
    "@jit\n",
    "def update(z, epsilon): \n",
    "    Vu = np.random.binomial(N - B(z), epsilon)\n",
    "    Vw = np.random.binomial(B(z), epsilon)\n",
    "    return B(z) + Vu - Vw"
   ]
  },
  {
   "cell_type": "markdown",
   "id": "7dcce006",
   "metadata": {},
   "source": [
    "Plot the function $B$ as a 45 degree diagram."
   ]
  },
  {
   "cell_type": "code",
   "execution_count": 19,
   "id": "ff6e713b",
   "metadata": {},
   "outputs": [
    {
     "data": {
      "image/png": "[encoded data removed]",
      "text/plain": [
       "<Figure size 432x288 with 1 Axes>"
      ]
     },
     "metadata": {
      "filenames": {
       "image/png": "/home/john/gh_synced/books/sed2/edtc-code/code_book/_build/jupyter_execute/ch5_36_0.png"
      },
      "needs_background": "light"
     },
     "output_type": "display_data"
    }
   ],
   "source": [
    "fig, ax = plt.subplots()\n",
    "state = np.arange(0, N+1)\n",
    "ax.plot(state, state, 'k--', label='45 degrees') \n",
    "ax.scatter(state, [B(x) for x in state], label='$B(x)$')\n",
    "ax.legend()\n",
    "ax.set_xlabel('$x$')\n",
    "# plt.savefig(\"os_rewards.pdf\")\n",
    "plt.show()"
   ]
  },
  {
   "cell_type": "markdown",
   "id": "8c1e344b",
   "metadata": {},
   "source": [
    "Now we barplot the fraction of time sample paths spend at $N$ as epsilon varies."
   ]
  },
  {
   "cell_type": "code",
   "execution_count": 20,
   "id": "0a50056c",
   "metadata": {},
   "outputs": [
    {
     "data": {
      "image/png": "[encoded data removed]",
      "text/plain": [
       "<Figure size 432x288 with 1 Axes>"
      ]
     },
     "metadata": {
      "filenames": {
       "image/png": "/home/john/gh_synced/books/sed2/edtc-code/code_book/_build/jupyter_execute/ch5_38_0.png"
      },
      "needs_background": "light"
     },
     "output_type": "display_data"
    }
   ],
   "source": [
    "@jit\n",
    "def compute_time_at_state(s, epsilon, sim_length=1_000_000, x_init=5):\n",
    "    X = x_init\n",
    "    counter = 0\n",
    "    for t in range(sim_length):\n",
    "        X = update(X, epsilon)\n",
    "        if X == s:\n",
    "            counter += 1\n",
    "    return counter / sim_length\n",
    "\n",
    "epsilons = np.arange(0.001, 0.1, step=0.01)\n",
    "sample_frac = np.empty(len(epsilons))\n",
    "for i, eps in enumerate(epsilons): \n",
    "    sample_frac[i] = compute_time_at_state(N, eps)\n",
    "\n",
    "fig, ax = plt.subplots()\n",
    "ax.bar(epsilons, sample_frac, width=0.005, edgecolor='k', alpha=0.5)\n",
    "ax.set_ylim(0, 1.01)\n",
    "ax.set_xlabel('$\\\\epsilon$')\n",
    "ax.set_ylabel('fraction')\n",
    "#plt.savefig(\"mutation_ess.pdf\")\n",
    "plt.show()\n"
   ]
  }
 ],
 "metadata": {
  "jupytext": {
   "cell_metadata_filter": "-all",
   "formats": "md:myst",
   "text_representation": {
    "extension": ".md",
    "format_name": "myst",
    "format_version": 0.13,
    "jupytext_version": "1.10.3"
   }
  },
  "kernelspec": {
   "display_name": "Python 3",
   "language": "python",
   "name": "python3"
  },
  "language_info": {
   "codemirror_mode": {
    "name": "ipython",
    "version": 3
   },
   "file_extension": ".py",
   "mimetype": "text/x-python",
   "name": "python",
   "nbconvert_exporter": "python",
   "pygments_lexer": "ipython3",
   "version": "3.8.5"
  },
  "source_map": [
   14,
   21,
   25,
   31,
   37,
   42,
   54,
   61,
   75,
   79,
   91,
   100,
   126,
   130,
   143,
   147,
   156,
   169,
   178,
   183,
   191,
   198,
   208,
   212,
   223,
   239,
   256,
   261,
   284,
   288,
   301,
   307,
   309,
   322,
   328,
   351,
   355,
   364,
   368
  ]
 },
 "nbformat": 4,
 "nbformat_minor": 5
}