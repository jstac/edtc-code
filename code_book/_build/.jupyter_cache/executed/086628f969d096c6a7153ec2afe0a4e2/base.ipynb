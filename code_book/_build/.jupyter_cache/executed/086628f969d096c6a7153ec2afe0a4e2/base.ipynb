{
 "cells": [
  {
   "cell_type": "code",
   "execution_count": 1,
   "metadata": {},
   "outputs": [],
   "source": [
    "import numpy as np\n",
    "import scipy as sp\n",
    "import matplotlib.pyplot as plt\n",
    "import quantecon as qe\n",
    "from numba import njit\n",
    "\n",
    "from scipy.linalg import expm\n",
    "from scipy.stats import binom"
   ]
  },
  {
   "cell_type": "code",
   "execution_count": 2,
   "metadata": {},
   "outputs": [],
   "source": [
    "α = 0.6\n",
    "λ = 0.5\n",
    "γ = 0.1\n",
    "b = 10"
   ]
  },
  {
   "cell_type": "code",
   "execution_count": 3,
   "metadata": {},
   "outputs": [],
   "source": [
    "@njit\n",
    "def draw_X(T, X_0, max_iter=5000):\n",
    "    \"\"\"\n",
    "    Generate one draw of X_T given X_0.\n",
    "    \"\"\"\n",
    "\n",
    "    J, Y = 0, X_0\n",
    "    m = 0\n",
    "\n",
    "    while m < max_iter:\n",
    "        s = 1/γ if Y == 0 else 1/λ\n",
    "        W = np.random.exponential(scale=s)  # W ~ E(λ)\n",
    "        J += W\n",
    "        if J >= T:\n",
    "            return Y\n",
    "        # Otherwise update Y\n",
    "        if Y == 0:\n",
    "            Y = b\n",
    "        else:\n",
    "            U = np.random.geometric(α)\n",
    "            Y = Y - min(Y, U)\n",
    "        m += 1\n",
    "\n",
    "\n",
    "@njit\n",
    "def independent_draws(T=10, num_draws=100):\n",
    "    \"Generate a vector of independent draws of X_T.\"\n",
    "\n",
    "    draws = np.empty(num_draws, dtype=np.int64)\n",
    "\n",
    "    for i in range(num_draws):\n",
    "        X_0 = np.random.binomial(b+1, 0.25)\n",
    "        draws[i] = draw_X(T, X_0)\n",
    "\n",
    "    return draws"
   ]
  },
  {
   "cell_type": "code",
   "execution_count": 4,
   "metadata": {},
   "outputs": [
    {
     "data": {
      "image/png": "[encoded data removed]",
      "text/plain": [
       "<Figure size 432x288 with 1 Axes>"
      ]
     },
     "metadata": {
      "needs_background": "light"
     },
     "output_type": "display_data"
    }
   ],
   "source": [
    "T = 30\n",
    "n = b + 1 \n",
    "draws = independent_draws(T, num_draws=100_000)\n",
    "fig, ax = plt.subplots()\n",
    "\n",
    "ax.bar(range(n), [np.mean(draws == i) for i in range(n)], width=0.8, alpha=0.6)\n",
    "ax.set(xlabel=\"inventory\")\n",
    "\n",
    "plt.show()"
   ]
  },
  {
   "cell_type": "code",
   "execution_count": 5,
   "metadata": {},
   "outputs": [],
   "source": [
    "α = 0.6\n",
    "λ = 0.5\n",
    "γ = 0.1\n",
    "b = 10"
   ]
  },
  {
   "cell_type": "code",
   "execution_count": 6,
   "metadata": {},
   "outputs": [
    {
     "data": {
      "image/png": "[encoded data removed]",
      "text/plain": [
       "<Figure size 432x288 with 1 Axes>"
      ]
     },
     "metadata": {
      "needs_background": "light"
     },
     "output_type": "display_data"
    }
   ],
   "source": [
    "states = np.arange(n)\n",
    "I = np.identity(n)\n",
    "\n",
    "# Embedded jump chain matrix\n",
    "K = np.zeros((n, n))\n",
    "K[0, -1] = 1\n",
    "for i in range(1, n):\n",
    "    for j in range(0, i):\n",
    "        if j == 0:\n",
    "            K[i, j] = (1 - α)**(i-1)\n",
    "        else:\n",
    "            K[i, j] = α * (1 - α)**(i-j-1)\n",
    "\n",
    "# Jump intensities as a function of the state\n",
    "r = np.ones(n) * λ\n",
    "r[0] = γ\n",
    "\n",
    "# Q matrix\n",
    "Q = np.empty_like(K)\n",
    "for i in range(n):\n",
    "    for j in range(n):\n",
    "        Q[i, j] = r[i] * (K[i, j] - I[i, j])\n",
    "\n",
    "def P_t(ψ, t):\n",
    "    return ψ @ expm(t * Q)\n",
    "\n",
    "ψ_0 = binom.pmf(states, n, 0.25)\n",
    "ψ_T = P_t(ψ_0, T)\n",
    "\n",
    "fig, ax = plt.subplots()\n",
    "\n",
    "ax.bar(range(n), ψ_T, width=0.8, alpha=0.6)\n",
    "ax.set(xlabel=\"inventory\")\n",
    "\n",
    "plt.show()"
   ]
  }
 ],
 "metadata": {
  "jupytext": {
   "formats": "ipynb,md:myst",
   "text_representation": {
    "extension": ".md",
    "format_name": "myst",
    "format_version": "0.9",
    "jupytext_version": "1.5.0"
   }
  },
  "kernelspec": {
   "display_name": "Python 3",
   "language": "python",
   "name": "python3"
  },
  "language_info": {
   "codemirror_mode": {
    "name": "ipython",
    "version": 3
   },
   "file_extension": ".py",
   "mimetype": "text/x-python",
   "name": "python",
   "nbconvert_exporter": "python",
   "pygments_lexer": "ipython3",
   "version": "3.7.7"
  }
 },
 "nbformat": 4,
 "nbformat_minor": 4
}